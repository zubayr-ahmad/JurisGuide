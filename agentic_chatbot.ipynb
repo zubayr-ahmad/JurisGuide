{
 "cells": [
  {
   "cell_type": "code",
   "execution_count": 39,
   "metadata": {},
   "outputs": [],
   "source": [
    "import sqlite3\n",
    "import os\n",
    "from dotenv import load_dotenv\n",
    "from typing import TypedDict, List, Annotated, Dict, Any\n",
    "from langgraph.graph import StateGraph, END\n",
    "import uuid\n",
    "from langchain_core.messages import HumanMessage, AIMessage, SystemMessage\n",
    "from langchain_groq import ChatGroq\n",
    "from langchain_huggingface import HuggingFaceEmbeddings\n",
    "from langchain.vectorstores import Chroma\n",
    "from langchain_community.document_loaders import PyPDFLoader\n",
    "from langchain.text_splitter import RecursiveCharacterTextSplitter\n",
    "\n",
    "load_dotenv()\n",
    "\n",
    "# Database and Vector Store paths\n",
    "DB_PATH = os.getenv(\"DB_PATH\", \"data/chat_history.db\")\n",
    "VECTOR_STORE_PATH = os.getenv(\"VECTOR_STORE_PATH\", \"data/chroma_db\")\n",
    "PROCESSED_FOLDER = \"data/processed\"\n",
    "LLM_API_KEY = os.getenv(\"LLM_API_KEY\")\n",
    "LLM_MODEL = os.getenv(\"LLM_MODEL\")\n",
    "HISTORY_CONTEXT = 5\n",
    "RETRIEVE_DOCS = 3"
   ]
  },
  {
   "cell_type": "code",
   "execution_count": 40,
   "metadata": {},
   "outputs": [],
   "source": [
    "# Database Layer\n",
    "class ChatDatabase:\n",
    "    def __init__(self):\n",
    "        self.conn = sqlite3.connect(DB_PATH, check_same_thread=False)\n",
    "        self._create_table()\n",
    "\n",
    "    def _create_table(self):\n",
    "        self.conn.execute(\"\"\"\n",
    "            CREATE TABLE IF NOT EXISTS chat_history (\n",
    "                id INTEGER PRIMARY KEY AUTOINCREMENT,\n",
    "                session_id TEXT,\n",
    "                user_message TEXT,\n",
    "                bot_response TEXT,\n",
    "                timestamp DATETIME DEFAULT CURRENT_TIMESTAMP\n",
    "            )\n",
    "        \"\"\")\n",
    "        self.conn.commit()\n",
    "\n",
    "    def save_chat(self, session_id: str, user_message: str, bot_response: str):\n",
    "        self.conn.execute(\"\"\"\n",
    "            INSERT INTO chat_history (session_id, user_message, bot_response)\n",
    "            VALUES (?, ?, ?)\n",
    "        \"\"\", (session_id, user_message, bot_response))\n",
    "        self.conn.commit()\n",
    "\n",
    "    def get_chat_history(self, session_id: str, limit: int = HISTORY_CONTEXT) -> List[tuple]:\n",
    "        cursor = self.conn.cursor()\n",
    "        cursor.execute(\"\"\"\n",
    "            SELECT user_message, bot_response FROM chat_history\n",
    "            WHERE session_id = ?\n",
    "            ORDER BY timestamp DESC\n",
    "            LIMIT ?\n",
    "        \"\"\", (session_id, limit))\n",
    "        return cursor.fetchall()[::-1]"
   ]
  },
  {
   "cell_type": "code",
   "execution_count": 41,
   "metadata": {},
   "outputs": [],
   "source": [
    "# Document Retrieval Layer\n",
    "class DocumentRetriever:\n",
    "    def __init__(self):\n",
    "        self.embeddings = HuggingFaceEmbeddings()\n",
    "        self.db = self._initialize_vectorstore()\n",
    "\n",
    "    def _initialize_vectorstore(self):\n",
    "        if not os.path.exists(PROCESSED_FOLDER):\n",
    "            os.makedirs(PROCESSED_FOLDER)\n",
    "\n",
    "        docs = []\n",
    "        for file in os.listdir(PROCESSED_FOLDER):\n",
    "            if file.endswith(\".pdf\"):\n",
    "                loader = PyPDFLoader(os.path.join(PROCESSED_FOLDER, file))\n",
    "                docs.extend(loader.load())\n",
    "\n",
    "        if docs:\n",
    "            text_splitter = RecursiveCharacterTextSplitter(chunk_size=500, chunk_overlap=50)\n",
    "            texts = text_splitter.split_documents(docs)\n",
    "            return Chroma.from_documents(texts, self.embeddings, persist_directory=VECTOR_STORE_PATH)\n",
    "        \n",
    "        return Chroma(persist_directory=VECTOR_STORE_PATH, embedding_function=self.embeddings)\n",
    "\n",
    "    def retrieve_documents(self, query: str, k=RETRIEVE_DOCS) -> List[Any]:\n",
    "        return self.db.similarity_search(query, k)\n"
   ]
  },
  {
   "cell_type": "code",
   "execution_count": 42,
   "metadata": {},
   "outputs": [],
   "source": [
    "# LLM Response Generation\n",
    "class ResponseGenerator:\n",
    "    def __init__(self):\n",
    "        self.llm = ChatGroq(api_key=LLM_API_KEY, \n",
    "                          model=LLM_MODEL)\n",
    "\n",
    "    def generate_response(self, context: str, history: str, query: str) -> str:\n",
    "        messages = [\n",
    "            SystemMessage(content=\"You are an AI assistant. Provide accurate answers using the context. If unsure, say so.\"),\n",
    "            HumanMessage(content=f\"Context:\\n{context}\\n\\nHistory:\\n{history}\\n\\nQuestion: {query}\\nAnswer:\")\n",
    "        ]\n",
    "        return self.llm(messages).content\n"
   ]
  },
  {
   "cell_type": "code",
   "execution_count": 43,
   "metadata": {},
   "outputs": [],
   "source": [
    "# LangGraph State Definition\n",
    "class ChatState(TypedDict):\n",
    "    session_id: str\n",
    "    user_input: str\n",
    "    retrieved_docs: List[Any]\n",
    "    response: str\n",
    "    history: Annotated[List[Dict[str, str]], lambda x, y: x + y]"
   ]
  },
  {
   "cell_type": "code",
   "execution_count": 44,
   "metadata": {},
   "outputs": [],
   "source": [
    "# LangGraph Nodes\n",
    "class ChatNodes:\n",
    "    def __init__(self):\n",
    "        self.db = ChatDatabase()\n",
    "        self.retriever = DocumentRetriever()\n",
    "        self.generator = ResponseGenerator()\n",
    "\n",
    "    def retrieve_documents(self, state: ChatState) -> Dict:\n",
    "        docs = self.retriever.retrieve_documents(state[\"user_input\"])\n",
    "        return {\"retrieved_docs\": docs}\n",
    "\n",
    "    def generate_response(self, state: ChatState) -> Dict:\n",
    "        context = \"\\n\\n\".join([doc.page_content for doc in state[\"retrieved_docs\"]])\n",
    "        history = \"\\n\".join([f\"User: {msg['user']}\\nBot: {msg['bot']}\" \n",
    "                           for msg in state.get(\"history\", [])[-HISTORY_CONTEXT:]])\n",
    "        \n",
    "        response = self.generator.generate_response(\n",
    "            context=context,\n",
    "            history=history,\n",
    "            query=state[\"user_input\"]\n",
    "        )\n",
    "        return {\"response\": response}\n",
    "\n",
    "    def save_conversation(self, state: ChatState) -> Dict:\n",
    "        self.db.save_chat(\n",
    "            state[\"session_id\"],\n",
    "            state[\"user_input\"],\n",
    "            state[\"response\"]\n",
    "        )\n",
    "        return {\n",
    "            \"history\": [{\n",
    "                \"user\": state[\"user_input\"],\n",
    "                \"bot\": state[\"response\"]\n",
    "            }]\n",
    "        }\n"
   ]
  },
  {
   "cell_type": "code",
   "execution_count": 45,
   "metadata": {},
   "outputs": [],
   "source": [
    "# LangGraph Workflow Setup\n",
    "def create_workflow():\n",
    "    nodes = ChatNodes()\n",
    "    workflow = StateGraph(ChatState)\n",
    "\n",
    "    workflow.add_node(\"retrieve\", nodes.retrieve_documents)\n",
    "    workflow.add_node(\"generate\", nodes.generate_response)\n",
    "    workflow.add_node(\"save\", nodes.save_conversation)\n",
    "\n",
    "    workflow.set_entry_point(\"retrieve\")\n",
    "    workflow.add_edge(\"retrieve\", \"generate\")\n",
    "    workflow.add_edge(\"generate\", \"save\")\n",
    "    workflow.add_edge(\"save\", END)\n",
    "\n",
    "    return workflow.compile()\n"
   ]
  },
  {
   "cell_type": "code",
   "execution_count": 46,
   "metadata": {},
   "outputs": [],
   "source": [
    "# Chat Interface\n",
    "class LangGraphChat:\n",
    "    def __init__(self):\n",
    "        self.workflow = create_workflow()\n",
    "        self.db = ChatDatabase()\n",
    "\n",
    "    def chat(self, user_input: str, session_id: str = None) -> Dict:\n",
    "        session_id = session_id or str(uuid.uuid4())\n",
    "        history = self.db.get_chat_history(session_id, limit=HISTORY_CONTEXT)\n",
    "        \n",
    "        initial_state = {\n",
    "            \"session_id\": session_id,\n",
    "            \"user_input\": user_input,\n",
    "            \"retrieved_docs\": [],\n",
    "            \"response\": \"\",\n",
    "            \"history\": [{\"user\": h[0], \"bot\": h[1]} for h in history]\n",
    "        }\n",
    "\n",
    "        result = self.workflow.invoke(initial_state)\n",
    "        return {\n",
    "            \"session_id\": session_id,\n",
    "            \"response\": result[\"response\"],\n",
    "            \"references\": [{\n",
    "                \"content\": doc.page_content,\n",
    "                \"metadata\": doc.metadata\n",
    "            } for doc in result[\"retrieved_docs\"]]\n",
    "        }\n",
    "    \n"
   ]
  },
  {
   "cell_type": "code",
   "execution_count": 53,
   "metadata": {},
   "outputs": [
    {
     "name": "stdout",
     "output_type": "stream",
     "text": [
      "Response: Based on the provided context, the refund policy appears to be governed by Articles 4 and 5, which outline the requirements and process for refund claims. \n",
      "\n",
      "The refund policy is that where the refund claim is correct, the Bureau Expo 2020 Dubai makes a request to the Authority to refund the amount. \n",
      "\n",
      "However, more specific details about the refund policy, such as the types of refunds, eligibility criteria, and the refund process, are not explicitly stated in the provided context.\n",
      "Session ID: dbcf2aaa-7bab-441f-a896-ca32248fb88c\n",
      "References: [{'content': 'prepared by the Authority.  Where the refund claim is correct, the Bureau Expo \\n2020 Dubai makes a request to the Authority to refund the amount. \\n \\nArticle 4 – Requirements for Refund \\nThe Authority and Bureau Expo 2020 Dubai shall agree on procedural, evidential, \\nand verification requirements which need to be met by the Office of the Official \\nParticipant or any other Person to be eligible to the refund claim. \\n \\nArticle 5 – Certificate on Entitlement', 'metadata': {'page': 3, 'page_label': '4', 'source': 'data/processed\\\\279926_cabinet_decision_1_2020__refund_of_vat_paid_on_goods_and_services_connected_with_expo_2020.pdf'}}, {'content': 'prepared by the Authority.  Where the refund claim is correct, the Bureau Expo \\n2020 Dubai makes a request to the Authority to refund the amount. \\n \\nArticle 4 – Requirements for Refund \\nThe Authority and Bureau Expo 2020 Dubai shall agree on procedural, evidential, \\nand verification requirements which need to be met by the Office of the Official \\nParticipant or any other Person to be eligible to the refund claim. \\n \\nArticle 5 – Certificate on Entitlement', 'metadata': {'page': 3, 'page_label': '4', 'source': 'data/processed\\\\279926_cabinet_decision_1_2020__refund_of_vat_paid_on_goods_and_services_connected_with_expo_2020.pdf'}}, {'content': 'prepared by the Authority.  Where the refund claim is correct, the Bureau Expo \\n2020 Dubai makes a request to the Authority to refund the amount. \\n \\nArticle 4 – Requirements for Refund \\nThe Authority and Bureau Expo 2020 Dubai shall agree on procedural, evidential, \\nand verification requirements which need to be met by the Office of the Official \\nParticipant or any other Person to be eligible to the refund claim. \\n \\nArticle 5 – Certificate on Entitlement', 'metadata': {'page': 3, 'page_label': '4', 'source': 'data/processed\\\\279926_cabinet_decision_1_2020__refund_of_vat_paid_on_goods_and_services_connected_with_expo_2020.pdf'}}]\n"
     ]
    }
   ],
   "source": [
    "chatbot = LangGraphChat()\n",
    "result = chatbot.chat(\"What is the refund policy?\")\n",
    "print(f\"Response: {result['response']}\")\n",
    "print(f\"Session ID: {result['session_id']}\")\n",
    "print(f\"References: {result['references']}\")"
   ]
  },
  {
   "cell_type": "code",
   "execution_count": 48,
   "metadata": {},
   "outputs": [
    {
     "data": {
      "text/plain": [
       "{'session_id': '329346c6-8425-494f-a14f-ddcb2a701648',\n",
       " 'response': \"Based on the provided context, it appears that the refund policy involves the following steps:\\n\\n1. The Bureau Expo 2020 Dubai makes a request to the Authority to refund the claimed amount.\\n2. To be eligible for the refund, the Office of the Official Participant or any other Person must meet the agreed-upon procedural, evidential, and verification requirements.\\n3. If the refund claim is correct, the Authority will provide a Certificate on Entitlement.\\n\\nHowever, I must note that I'm missing some crucial information, such as the specific details about the refund policy and the agreed-upon requirements. To provide a more accurate answer, I would need more information or context.\",\n",
       " 'references': [{'content': 'prepared by the Authority.  Where the refund claim is correct, the Bureau Expo \\n2020 Dubai makes a request to the Authority to refund the amount. \\n \\nArticle 4 – Requirements for Refund \\nThe Authority and Bureau Expo 2020 Dubai shall agree on procedural, evidential, \\nand verification requirements which need to be met by the Office of the Official \\nParticipant or any other Person to be eligible to the refund claim. \\n \\nArticle 5 – Certificate on Entitlement',\n",
       "   'metadata': {'page': 3,\n",
       "    'page_label': '4',\n",
       "    'source': 'data/processed\\\\279926_cabinet_decision_1_2020__refund_of_vat_paid_on_goods_and_services_connected_with_expo_2020.pdf'}},\n",
       "  {'content': 'prepared by the Authority.  Where the refund claim is correct, the Bureau Expo \\n2020 Dubai makes a request to the Authority to refund the amount. \\n \\nArticle 4 – Requirements for Refund \\nThe Authority and Bureau Expo 2020 Dubai shall agree on procedural, evidential, \\nand verification requirements which need to be met by the Office of the Official \\nParticipant or any other Person to be eligible to the refund claim. \\n \\nArticle 5 – Certificate on Entitlement',\n",
       "   'metadata': {'page': 3,\n",
       "    'page_label': '4',\n",
       "    'source': 'data/processed\\\\279926_cabinet_decision_1_2020__refund_of_vat_paid_on_goods_and_services_connected_with_expo_2020.pdf'}},\n",
       "  {'content': 'prepared by the Authority.  Where the refund claim is correct, the Bureau Expo \\n2020 Dubai makes a request to the Authority to refund the amount. \\n \\nArticle 4 – Requirements for Refund \\nThe Authority and Bureau Expo 2020 Dubai shall agree on procedural, evidential, \\nand verification requirements which need to be met by the Office of the Official \\nParticipant or any other Person to be eligible to the refund claim. \\n \\nArticle 5 – Certificate on Entitlement',\n",
       "   'metadata': {'page': 3,\n",
       "    'page_label': '4',\n",
       "    'source': 'data/processed\\\\279926_cabinet_decision_1_2020__refund_of_vat_paid_on_goods_and_services_connected_with_expo_2020.pdf'}}]}"
      ]
     },
     "execution_count": 48,
     "metadata": {},
     "output_type": "execute_result"
    }
   ],
   "source": [
    "result"
   ]
  },
  {
   "cell_type": "code",
   "execution_count": 49,
   "metadata": {},
   "outputs": [],
   "source": [
    "# a3949cea-bfaf-4150-9acb-ffc2b1c522d0\n",
    "response = chatbot.chat(\"Can you elaborate on point 3?\", session_id=\"a3949cea-bfaf-4150-9acb-ffc2b1c522d0\")"
   ]
  },
  {
   "cell_type": "code",
   "execution_count": 50,
   "metadata": {},
   "outputs": [
    {
     "data": {
      "text/plain": [
       "{'session_id': 'a3949cea-bfaf-4150-9acb-ffc2b1c522d0',\n",
       " 'response': \"Based on the provided context, point 3 states that where a Certificate of Entitlement has been granted to the Official Participant in respect of imports and supplies covered by Paragraphs (a) and (b) of Clause 1 of Article 2 of this Decision, the Official Participant is required to inform the Bureau.\\n\\nTo elaborate, the Certificate of Entitlement is a document issued by the Authority in response to the request made by the Bureau Expo 2020 Dubai. The Certificate serves as evidence of the entitlement to the refund, and it is typically prepared by the Authority after verifying the refund claim and meeting the agreed-upon requirements.\\n\\nThe Certificate of Entitlement would likely include information such as:\\n\\n- The name of the Official Participant\\n- The amount of the refund\\n- Any other relevant details\\n\\nThe Bureau Expo 2020 Dubai would then use this Certificate to support their request for a refund to the Authority. It's worth noting that the specific requirements for the Certificate of Entitlement are not explicitly stated in the provided context, but it is likely that the Authority would require the Bureau Expo 2020 Dubai to provide documentation or evidence to support the refund claim, and the Certificate would be a formal acknowledgment of the entitlement to the refund.\\n\\nIn this context, the Bureau Expo 2020 Dubai would be required to provide information to the Bureau regarding the Certificate of Entitlement, but the specific requirements for this information are not explicitly stated in the provided context.\",\n",
       " 'references': [{'content': 'respect of any space or presentation.  \\n4. Where a Certificate of Entitlement has been granted to the Official Participant in \\nrespect of imports and supplies covered by Paragraphs (a) and (b) of Clause 1 of \\nArticle 2 of this Decision, the Official Participant is required to inform the Bureau',\n",
       "   'metadata': {'page': 3,\n",
       "    'page_label': '4',\n",
       "    'source': 'data/processed\\\\279926_cabinet_decision_1_2020__refund_of_vat_paid_on_goods_and_services_connected_with_expo_2020.pdf'}},\n",
       "  {'content': 'respect of any space or presentation.  \\n4. Where a Certificate of Entitlement has been granted to the Official Participant in \\nrespect of imports and supplies covered by Paragraphs (a) and (b) of Clause 1 of \\nArticle 2 of this Decision, the Official Participant is required to inform the Bureau',\n",
       "   'metadata': {'page': 3,\n",
       "    'page_label': '4',\n",
       "    'source': 'data/processed\\\\279926_cabinet_decision_1_2020__refund_of_vat_paid_on_goods_and_services_connected_with_expo_2020.pdf'}},\n",
       "  {'content': 'respect of any space or presentation.  \\n4. Where a Certificate of Entitlement has been granted to the Official Participant in \\nrespect of imports and supplies covered by Paragraphs (a) and (b) of Clause 1 of \\nArticle 2 of this Decision, the Official Participant is required to inform the Bureau',\n",
       "   'metadata': {'page': 3,\n",
       "    'page_label': '4',\n",
       "    'source': 'data/processed\\\\279926_cabinet_decision_1_2020__refund_of_vat_paid_on_goods_and_services_connected_with_expo_2020.pdf'}}]}"
      ]
     },
     "execution_count": 50,
     "metadata": {},
     "output_type": "execute_result"
    }
   ],
   "source": [
    "response"
   ]
  },
  {
   "cell_type": "code",
   "execution_count": 51,
   "metadata": {},
   "outputs": [],
   "source": [
    "history = chatbot.db.get_chat_history(\"a3949cea-bfaf-4150-9acb-ffc2b1c522d0\", limit=5)"
   ]
  },
  {
   "cell_type": "code",
   "execution_count": 52,
   "metadata": {},
   "outputs": [
    {
     "data": {
      "text/plain": [
       "[('What is the refund policy?',\n",
       "  'Based on the provided context, the refund policy involves the following steps:\\n\\n1. The Bureau Expo 2020 Dubai makes a request to the Authority to refund the amount, provided the refund claim is correct.\\n2. The Authority and Bureau Expo 2020 Dubai agree on procedural, evidential, and verification requirements to be met by the Office of the Official Participant or any other Person to be eligible for the refund claim (Article 4: Requirements for Refund).\\n3. Where the refund claim is correct, the Bureau Expo 2020 Dubai makes a request to the Authority to refund the amount, and the Authority prepares a Certificate on Entitlement (Article 5: Certificate on Entitlement).\\n\\nTherefore, the refund policy is that the Bureau Expo 2020 Dubai requests the Authority for a refund if the claim is correct, after meeting the agreed-upon requirements and obtaining the Certificate on Entitlement from the Authority.'),\n",
       " ('Can you elaborate on point 3?',\n",
       "  \"Based on the provided context, point 3 states that where the refund claim is correct, the Bureau Expo 2020 Dubai makes a request to the Authority to refund the amount, and the Authority prepares a Certificate on Entitlement.\\n\\nTo elaborate, the Certificate on Entitlement is a document issued by the Authority in response to the request made by the Bureau Expo 2020 Dubai. The Certificate serves as evidence of the entitlement to the refund, and it is typically prepared by the Authority after verifying the refund claim and meeting the agreed-upon requirements.\\n\\nThe Certificate on Entitlement would likely include information such as the name of the Official Participant, the amount of the refund, and any other relevant details. The Bureau Expo 2020 Dubai would then use this Certificate to support their request for a refund to the Authority.\\n\\nIt's worth noting that the specific requirements for the Certificate on Entitlement are not explicitly stated in the provided context, but it is likely that the Authority would require the Bureau Expo 2020 Dubai to provide documentation or evidence to support the refund claim, and the Certificate would be a formal acknowledgment of the entitlement to the refund.\"),\n",
       " ('Can you elaborate on point 3?',\n",
       "  \"Based on the provided context, point 3 states that where the refund claim is correct, the Bureau Expo 2020 Dubai makes a request to the Authority to refund the amount, and the Authority prepares a Certificate on Entitlement.\\n\\nTo elaborate, the Certificate on Entitlement is a document issued by the Authority in response to the request made by the Bureau Expo 2020 Dubai. The Certificate serves as evidence of the entitlement to the refund, and it is typically prepared by the Authority after verifying the refund claim and meeting the agreed-upon requirements.\\n\\nThe Certificate on Entitlement would likely include information such as:\\n\\n- The name of the Official Participant\\n- The amount of the refund\\n- Any other relevant details\\n\\nThe Bureau Expo 2020 Dubai would then use this Certificate to support their request for a refund to the Authority. It's worth noting that the specific requirements for the Certificate on Entitlement are not explicitly stated in the provided context, but it is likely that the Authority would require the Bureau Expo 2020 Dubai to provide documentation or evidence to support the refund claim, and the Certificate would be a formal acknowledgment of the entitlement to the refund.\"),\n",
       " ('Can you elaborate on point 3?',\n",
       "  \"Based on the provided context, point 3 states that where a Certificate of Entitlement has been granted to the Official Participant in respect of imports and supplies covered by Paragraphs (a) and (b) of Clause 1 of Article 2 of this Decision, the Official Participant is required to inform the Bureau.\\n\\nTo elaborate, the Certificate of Entitlement is a document issued by the Authority in response to the request made by the Bureau Expo 2020 Dubai. The Certificate serves as evidence of the entitlement to the refund, and it is typically prepared by the Authority after verifying the refund claim and meeting the agreed-upon requirements.\\n\\nThe Certificate of Entitlement would likely include information such as:\\n\\n- The name of the Official Participant\\n- The amount of the refund\\n- Any other relevant details\\n\\nThe Bureau Expo 2020 Dubai would then use this Certificate to support their request for a refund to the Authority. It's worth noting that the specific requirements for the Certificate of Entitlement are not explicitly stated in the provided context, but it is likely that the Authority would require the Bureau Expo 2020 Dubai to provide documentation or evidence to support the refund claim, and the Certificate would be a formal acknowledgment of the entitlement to the refund.\\n\\nIn this context, the Bureau Expo 2020 Dubai would be required to provide information to the Bureau regarding the Certificate of Entitlement, but the specific requirements for this information are not explicitly stated in the provided context.\")]"
      ]
     },
     "execution_count": 52,
     "metadata": {},
     "output_type": "execute_result"
    }
   ],
   "source": [
    "history"
   ]
  },
  {
   "cell_type": "code",
   "execution_count": null,
   "metadata": {},
   "outputs": [],
   "source": []
  }
 ],
 "metadata": {
  "kernelspec": {
   "display_name": "ml_env",
   "language": "python",
   "name": "python3"
  },
  "language_info": {
   "codemirror_mode": {
    "name": "ipython",
    "version": 3
   },
   "file_extension": ".py",
   "mimetype": "text/x-python",
   "name": "python",
   "nbconvert_exporter": "python",
   "pygments_lexer": "ipython3",
   "version": "3.12.5"
  }
 },
 "nbformat": 4,
 "nbformat_minor": 2
}
