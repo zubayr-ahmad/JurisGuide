{
 "cells": [
  {
   "cell_type": "code",
   "execution_count": null,
   "metadata": {},
   "outputs": [],
   "source": [
    "from core.retriever import DocumentRetriever\n",
    "from core.models import ResponseGenerator\n",
    "from core.database import ChatDatabase\n",
    "import uuid\n",
    "\n",
    "class Chatbot:\n",
    "    def __init__(self):\n",
    "        self.session_id = str(uuid.uuid4())\n",
    "        self.db = ChatDatabase()\n",
    "        self.retriever = DocumentRetriever()  # Auto-loads processed docs\n",
    "        self.generator = ResponseGenerator()\n",
    "\n",
    "    def chat(self, user_input):\n",
    "        # Retrieve relevant documents\n",
    "        docs = self.retriever.retrieve_documents(user_input)\n",
    "\n",
    "        # Generate response using retrieved content\n",
    "        response = self.generator.generate_response(user_input, docs)\n",
    "        response_text = response.content\n",
    "        # Save chat history\n",
    "        self.db.save_chat(self.session_id, user_input, response_text)\n",
    "\n",
    "        return response, docs\n",
    "\n",
    "    def get_history(self):\n",
    "        return self.db.get_chat_history(self.session_id)\n"
   ]
  },
  {
   "cell_type": "code",
   "execution_count": null,
   "metadata": {},
   "outputs": [],
   "source": [
    "import sqlite3\n",
    "import os\n",
    "from dotenv import load_dotenv\n",
    "\n",
    "load_dotenv()\n",
    "DB_PATH = os.getenv(\"DB_PATH\", \"data/chat_history.db\")\n",
    "\n",
    "class ChatDatabase:\n",
    "    def __init__(self):\n",
    "        self.conn = sqlite3.connect(DB_PATH, check_same_thread=False)\n",
    "        self.create_table()\n",
    "\n",
    "    def create_table(self):\n",
    "        cursor = self.conn.cursor()\n",
    "        cursor.execute(\"\"\"\n",
    "            CREATE TABLE IF NOT EXISTS chat_history (\n",
    "                id INTEGER PRIMARY KEY AUTOINCREMENT,\n",
    "                session_id TEXT,\n",
    "                user_input TEXT,\n",
    "                bot_response TEXT,\n",
    "                timestamp DATETIME DEFAULT CURRENT_TIMESTAMP\n",
    "            )\n",
    "        \"\"\")\n",
    "        self.conn.commit()\n",
    "\n",
    "    def save_chat(self, session_id, user_input, bot_response):\n",
    "        cursor = self.conn.cursor()\n",
    "        cursor.execute(\"INSERT INTO chat_history (session_id, user_input, bot_response) VALUES (?, ?, ?)\", \n",
    "                       (session_id, user_input, bot_response))\n",
    "        self.conn.commit()\n",
    "\n",
    "    def get_chat_history(self, session_id):\n",
    "        cursor = self.conn.cursor()\n",
    "        cursor.execute(\"SELECT user_input, bot_response FROM chat_history WHERE session_id = ?\", (session_id,))\n",
    "        return cursor.fetchall()\n"
   ]
  },
  {
   "cell_type": "code",
   "execution_count": 21,
   "metadata": {},
   "outputs": [],
   "source": [
    "from langchain_groq import ChatGroq\n",
    "from dotenv import load_dotenv\n",
    "from langchain.schema import HumanMessage, AIMessage, SystemMessage\n",
    "from langchain.prompts import ChatPromptTemplate, HumanMessagePromptTemplate\n",
    "import os\n",
    "\n",
    "load_dotenv()\n",
    "LLM_API_KEY = os.getenv(\"LLM_API_KEY\")\n",
    "LLM_MODEL = os.getenv(\"LLM_MODEL\", \"default-llm\")\n",
    "\n",
    "class ResponseGenerator:\n",
    "    def __init__(self):\n",
    "        self.llm = ChatGroq(api_key=LLM_API_KEY, model=LLM_MODEL)\n",
    "\n",
    "    def generate_response(self, query, retrieved_docs):\n",
    "        context = \"\\n\\n\".join([doc.page_content for doc in retrieved_docs])\n",
    "        messages = [\n",
    "            SystemMessage(content=\"You are an AI assistant trained to provide accurate answers based on context.\"),\n",
    "            HumanMessage(content=f\"Context:\\n{context}\\n\\nQuestion: {query}\\nAnswer:\")\n",
    "        ]\n",
    "\n",
    "        return self.llm(messages)\n"
   ]
  },
  {
   "cell_type": "code",
   "execution_count": 22,
   "metadata": {},
   "outputs": [],
   "source": [
    "import os\n",
    "from langchain_huggingface import HuggingFaceEmbeddings\n",
    "from langchain.vectorstores import Chroma\n",
    "from langchain_community.document_loaders import PyPDFLoader\n",
    "from langchain.text_splitter import RecursiveCharacterTextSplitter\n",
    "from dotenv import load_dotenv\n",
    "\n",
    "load_dotenv()\n",
    "VECTOR_STORE_PATH = os.getenv(\"VECTOR_STORE_PATH\", \"data/chroma_db\")\n",
    "PROCESSED_FOLDER = \"data/processed\"\n",
    "\n",
    "class DocumentRetriever:\n",
    "    def __init__(self):\n",
    "        self.db = None\n",
    "        self.embeddings = HuggingFaceEmbeddings()\n",
    "        self.load_database()\n",
    "\n",
    "    def load_database(self):\n",
    "        \"\"\"Automatically loads processed documents and builds vector store.\"\"\"\n",
    "        if not os.path.exists(PROCESSED_FOLDER):\n",
    "            os.makedirs(PROCESSED_FOLDER)\n",
    "        \n",
    "        docs = []\n",
    "        for file in os.listdir(PROCESSED_FOLDER):\n",
    "            if file.endswith(\".pdf\"):\n",
    "                loader = PyPDFLoader(os.path.join(PROCESSED_FOLDER, file))\n",
    "                docs.extend(loader.load())\n",
    "\n",
    "        if docs:\n",
    "            text_splitter = RecursiveCharacterTextSplitter(chunk_size=500, chunk_overlap=50)\n",
    "            texts = text_splitter.split_documents(docs)\n",
    "\n",
    "            if not os.path.exists(VECTOR_STORE_PATH):\n",
    "                os.makedirs(VECTOR_STORE_PATH)\n",
    "            \n",
    "            self.db = Chroma.from_documents(texts, self.embeddings, persist_directory=VECTOR_STORE_PATH)\n",
    "            self.db.persist()\n",
    "        else:\n",
    "            self.db = Chroma(persist_directory=VECTOR_STORE_PATH, embedding_function=self.embeddings)\n",
    "\n",
    "    def retrieve_documents(self, query):\n",
    "        return self.db.similarity_search(query, k=3)"
   ]
  },
  {
   "cell_type": "code",
   "execution_count": 23,
   "metadata": {},
   "outputs": [],
   "source": [
    "bot = Chatbot()"
   ]
  },
  {
   "cell_type": "code",
   "execution_count": 24,
   "metadata": {},
   "outputs": [
    {
     "name": "stdout",
     "output_type": "stream",
     "text": [
      "User Input What is the amount of tax I need to pay for my income?\n",
      "Bot Response content=\"I can't answer that, as I don't have information about your specific income. However, I can tell you that according to Article 2 of the provided text, the Office of the Official Participant may claim a refund of Tax incurred by it on the import or supply of Goods or Services. It doesn't mention anything about the amount of tax that needs to be paid for income.\" additional_kwargs={} response_metadata={'token_usage': {'completion_tokens': 78, 'prompt_tokens': 376, 'total_tokens': 454, 'completion_time': 0.048962544, 'prompt_time': 0.060837974, 'queue_time': 0.278886054, 'total_time': 0.109800518}, 'model_name': 'llama-3.2-3b-preview', 'system_fingerprint': 'fp_a926bfdce1', 'finish_reason': 'stop', 'logprobs': None} id='run-6d07c4aa-9373-4c8f-a232-48a16a5dc80f-0' usage_metadata={'input_tokens': 376, 'output_tokens': 78, 'total_tokens': 454}\n"
     ]
    }
   ],
   "source": [
    "query = \"What is the amount of tax I need to pay for my income?\"\n",
    "response, docs = bot.chat(query)"
   ]
  },
  {
   "cell_type": "code",
   "execution_count": 25,
   "metadata": {},
   "outputs": [
    {
     "data": {
      "text/plain": [
       "AIMessage(content=\"I can't answer that, as I don't have information about your specific income. However, I can tell you that according to Article 2 of the provided text, the Office of the Official Participant may claim a refund of Tax incurred by it on the import or supply of Goods or Services. It doesn't mention anything about the amount of tax that needs to be paid for income.\", additional_kwargs={}, response_metadata={'token_usage': {'completion_tokens': 78, 'prompt_tokens': 376, 'total_tokens': 454, 'completion_time': 0.048962544, 'prompt_time': 0.060837974, 'queue_time': 0.278886054, 'total_time': 0.109800518}, 'model_name': 'llama-3.2-3b-preview', 'system_fingerprint': 'fp_a926bfdce1', 'finish_reason': 'stop', 'logprobs': None}, id='run-6d07c4aa-9373-4c8f-a232-48a16a5dc80f-0', usage_metadata={'input_tokens': 376, 'output_tokens': 78, 'total_tokens': 454})"
      ]
     },
     "execution_count": 25,
     "metadata": {},
     "output_type": "execute_result"
    }
   ],
   "source": [
    "response"
   ]
  },
  {
   "cell_type": "code",
   "execution_count": 26,
   "metadata": {},
   "outputs": [
    {
     "data": {
      "text/plain": [
       "[Document(metadata={'page': 2, 'page_label': '3', 'source': 'data/upload\\\\279926_cabinet_decision_1_2020__refund_of_vat_paid_on_goods_and_services_connected_with_expo_2020.pdf'}, page_content='work for those family members. \\nConsideration All that is received or expected to be received for the supply \\nof Goods or Services, whether in money or other acceptable \\nforms of payment. \\n \\nArticle 2 – Refund of Tax \\n1. The Office of the Official Participant may claim a refund of Tax incurred by it on \\nthe import or supply of Goods or Services provided that the Goods and Services \\nare any of the following: \\na. In direct connection with the construction, installation, alteration,'),\n",
       " Document(metadata={'page': 2, 'page_label': '3', 'source': 'data/upload\\\\279926_cabinet_decision_1_2020__refund_of_vat_paid_on_goods_and_services_connected_with_expo_2020.pdf'}, page_content='work for those family members. \\nConsideration All that is received or expected to be received for the supply \\nof Goods or Services, whether in money or other acceptable \\nforms of payment. \\n \\nArticle 2 – Refund of Tax \\n1. The Office of the Official Participant may claim a refund of Tax incurred by it on \\nthe import or supply of Goods or Services provided that the Goods and Services \\nare any of the following: \\na. In direct connection with the construction, installation, alteration,'),\n",
       " Document(metadata={'page': 3, 'page_label': '4', 'source': 'data/upload\\\\279926_cabinet_decision_1_2020__refund_of_vat_paid_on_goods_and_services_connected_with_expo_2020.pdf'}, page_content='4 Cabinet Decision No. 1 of 2020 - Issue Date: 2 January 2020 – Unofficial translation \\n \\n \\n \\nArticle 3 – Application for Refund \\n1. An application to refund the Tax stipulated in Clauses 1 and 2 of Article 2 is \\nsubmitted to the Bureau Expo 2020 Dubai. \\n2. The Bureau Expo 2020 Dubai performs the initial check on the refund claims \\nreceived from the Office of the Official Participants in accordance with the forms')]"
      ]
     },
     "execution_count": 26,
     "metadata": {},
     "output_type": "execute_result"
    }
   ],
   "source": [
    "docs"
   ]
  },
  {
   "cell_type": "code",
   "execution_count": null,
   "metadata": {},
   "outputs": [],
   "source": []
  }
 ],
 "metadata": {
  "kernelspec": {
   "display_name": "ml_env",
   "language": "python",
   "name": "python3"
  },
  "language_info": {
   "codemirror_mode": {
    "name": "ipython",
    "version": 3
   },
   "file_extension": ".py",
   "mimetype": "text/x-python",
   "name": "python",
   "nbconvert_exporter": "python",
   "pygments_lexer": "ipython3",
   "version": "3.12.5"
  }
 },
 "nbformat": 4,
 "nbformat_minor": 2
}
