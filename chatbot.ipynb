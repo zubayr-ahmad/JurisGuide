{
 "cells": [
  {
   "cell_type": "code",
   "execution_count": null,
   "metadata": {},
   "outputs": [],
   "source": [
    "import sqlite3\n",
    "import os\n",
    "from dotenv import load_dotenv\n",
    "\n",
    "load_dotenv()\n",
    "DB_PATH = os.getenv(\"DB_PATH\", \"data/chat_history.db\")\n",
    "\n",
    "class ChatDatabase:\n",
    "    def __init__(self):\n",
    "        self.conn = sqlite3.connect(DB_PATH, check_same_thread=False)\n",
    "        self.cursor = self.conn.cursor()\n",
    "        self._create_table()\n",
    "\n",
    "    def _create_table(self):\n",
    "        self.cursor.execute(\"\"\"\n",
    "            CREATE TABLE IF NOT EXISTS chat_history (\n",
    "                id INTEGER PRIMARY KEY AUTOINCREMENT,\n",
    "                session_id TEXT,\n",
    "                user_message TEXT,\n",
    "                bot_response TEXT,\n",
    "                timestamp DATETIME DEFAULT CURRENT_TIMESTAMP\n",
    "            )\n",
    "        \"\"\")\n",
    "        self.conn.commit()\n",
    "\n",
    "    def save_chat(self, session_id, user_message, bot_response):\n",
    "        self.cursor.execute(\"\"\"\n",
    "            INSERT INTO chat_history (session_id, user_message, bot_response)\n",
    "            VALUES (?, ?, ?)\n",
    "        \"\"\", (session_id, user_message, bot_response))\n",
    "        self.conn.commit()\n",
    "\n",
    "    def get_chat_history(self, session_id, limit=100):\n",
    "        \"\"\"Retrieves the last 'limit' messages from the session.\"\"\"\n",
    "        self.cursor.execute(\"\"\"\n",
    "            SELECT user_message, bot_response FROM chat_history\n",
    "            WHERE session_id = ?\n",
    "            ORDER BY timestamp DESC\n",
    "            LIMIT ?\n",
    "        \"\"\", (session_id, limit))\n",
    "        return self.cursor.fetchall()[::-1]  # Reverse to maintain chronological order\n",
    "\n",
    "    def get_all_sessions(self):\n",
    "        self.cursor.execute(\"\"\"\n",
    "            SELECT DISTINCT session_id FROM chat_history ORDER BY timestamp DESC\n",
    "        \"\"\")\n",
    "        return [row[0] for row in self.cursor.fetchall()]"
   ]
  },
  {
   "cell_type": "code",
   "execution_count": 61,
   "metadata": {},
   "outputs": [],
   "source": [
    "from langchain_groq import ChatGroq\n",
    "from dotenv import load_dotenv\n",
    "from langchain.schema import HumanMessage, AIMessage, SystemMessage\n",
    "from langchain.prompts import ChatPromptTemplate, HumanMessagePromptTemplate\n",
    "import os\n",
    "\n",
    "load_dotenv()\n",
    "LLM_API_KEY = os.getenv(\"LLM_API_KEY\")\n",
    "LLM_MODEL = os.getenv(\"LLM_MODEL\", \"default-llm\")\n",
    "\n",
    "class ResponseGenerator:\n",
    "    def __init__(self):\n",
    "        self.llm = ChatGroq(api_key=LLM_API_KEY, model=LLM_MODEL)\n",
    "\n",
    "    def generate_response(self, query, retrieved_docs, history):\n",
    "        context = \"\\n\\n\".join([doc.page_content for doc in retrieved_docs])\n",
    "\n",
    "        history_context = \"\\n\".join([f\"User: {h[0]}\\nBot: {h[1]}\" for h in history])\n",
    "        \n",
    "        messages = [\n",
    "            SystemMessage(content=\"You are an AI assistant trained to provide accurate answers based on context. If the provided context is not enough, respond with 'I don't have enough information to answer this question.'\"),\n",
    "            HumanMessage(content=f\"Context:\\n{context}\\n\\nHistory:\\n{history_context}\\n\\nQuestion: {query}\\nAnswer:\")\n",
    "        ]\n",
    "\n",
    "        return self.llm(messages)\n"
   ]
  },
  {
   "cell_type": "code",
   "execution_count": 62,
   "metadata": {},
   "outputs": [],
   "source": [
    "import os\n",
    "from langchain_huggingface import HuggingFaceEmbeddings\n",
    "from langchain.vectorstores import Chroma\n",
    "from langchain_community.document_loaders import PyPDFLoader\n",
    "from langchain.text_splitter import RecursiveCharacterTextSplitter\n",
    "from dotenv import load_dotenv\n",
    "\n",
    "load_dotenv()\n",
    "VECTOR_STORE_PATH = os.getenv(\"VECTOR_STORE_PATH\", \"data/chroma_db\")\n",
    "PROCESSED_FOLDER = \"data/processed\"\n",
    "\n",
    "class DocumentRetriever:\n",
    "    def __init__(self):\n",
    "        self.db = None\n",
    "        self.embeddings = HuggingFaceEmbeddings()\n",
    "        self.load_database()\n",
    "\n",
    "    def load_database(self):\n",
    "        if not os.path.exists(PROCESSED_FOLDER):\n",
    "            os.makedirs(PROCESSED_FOLDER)\n",
    "\n",
    "        print(\"Loading processed documents...\")\n",
    "        docs = []\n",
    "        for file in os.listdir(PROCESSED_FOLDER):\n",
    "            if file.endswith(\".pdf\"):\n",
    "                loader = PyPDFLoader(os.path.join(PROCESSED_FOLDER, file))\n",
    "                docs.extend(loader.load())\n",
    "\n",
    "        print(f\"Loaded {len(docs)} processed documents.\")\n",
    "        if docs:\n",
    "            text_splitter = RecursiveCharacterTextSplitter(chunk_size=500, chunk_overlap=50)\n",
    "            texts = text_splitter.split_documents(docs)\n",
    "\n",
    "            if not os.path.exists(VECTOR_STORE_PATH):\n",
    "                os.makedirs(VECTOR_STORE_PATH)\n",
    "\n",
    "            self.db = Chroma.from_documents(texts, self.embeddings, persist_directory=VECTOR_STORE_PATH)\n",
    "            self.db.persist()\n",
    "        else:\n",
    "            self.db = Chroma(persist_directory=VECTOR_STORE_PATH, embedding_function=self.embeddings)\n",
    "\n",
    "    def retrieve_documents(self, query):\n",
    "        return self.db.similarity_search(query, k=3)"
   ]
  },
  {
   "cell_type": "code",
   "execution_count": 63,
   "metadata": {},
   "outputs": [],
   "source": [
    "import uuid\n",
    "from langchain.memory import ConversationBufferWindowMemory\n",
    "\n",
    "class Chatbot:\n",
    "    def __init__(self, session_id=None):\n",
    "        self.db = ChatDatabase()\n",
    "        self.retriever = DocumentRetriever()\n",
    "        self.generator = ResponseGenerator()\n",
    "\n",
    "        self.session_id = session_id if session_id else str(uuid.uuid4())\n",
    "\n",
    "        # LangChain memory: Store last 5 exchanges per session\n",
    "        self.memory = ConversationBufferWindowMemory(k=5, memory_key=\"chat_history\", return_messages=True)\n",
    "\n",
    "        # Load existing history into memory\n",
    "        history = self.db.get_chat_history(self.session_id)\n",
    "        for user_msg, bot_msg in history:\n",
    "            self.memory.chat_memory.add_user_message(user_msg)\n",
    "            self.memory.chat_memory.add_ai_message(bot_msg)\n",
    "\n",
    "    def chat(self, user_input):\n",
    "        \"\"\"Handles a single chat interaction with memory.\"\"\"\n",
    "        docs = self.retriever.retrieve_documents(user_input)\n",
    "\n",
    "        # Retrieve last 5 conversations\n",
    "        history = self.db.get_chat_history(self.session_id, limit=5)\n",
    "\n",
    "        response = self.generator.generate_response(user_input, docs, history)\n",
    "        response_text = response.content\n",
    "\n",
    "        # Save chat to DB and Memory\n",
    "        self.db.save_chat(self.session_id, user_input, response_text)\n",
    "        self.memory.chat_memory.add_user_message(user_input)\n",
    "        self.memory.chat_memory.add_ai_message(response_text)\n",
    "\n",
    "        return {\n",
    "            \"query\": user_input,\n",
    "            \"response\": response_text,\n",
    "            \"reference\": [{\"content\": doc.page_content, \"metadata\": doc.metadata} for doc in docs]\n",
    "        }\n",
    "\n",
    "    def get_history(self):\n",
    "        return self.db.get_chat_history(self.session_id)\n",
    "\n",
    "    def get_all_sessions(self):\n",
    "        return self.db.get_all_sessions()"
   ]
  },
  {
   "cell_type": "code",
   "execution_count": 64,
   "metadata": {},
   "outputs": [
    {
     "name": "stdout",
     "output_type": "stream",
     "text": [
      "Loading processed documents...\n",
      "Loaded 5 processed documents.\n"
     ]
    },
    {
     "name": "stderr",
     "output_type": "stream",
     "text": [
      "C:\\Users\\zubay\\AppData\\Local\\Temp\\ipykernel_23860\\1728124496.py:13: LangChainDeprecationWarning: Please see the migration guide at: https://python.langchain.com/docs/versions/migrating_memory/\n",
      "  self.memory = ConversationBufferWindowMemory(k=5, memory_key=\"chat_history\", return_messages=True)\n"
     ]
    }
   ],
   "source": [
    "bot = Chatbot()"
   ]
  },
  {
   "cell_type": "code",
   "execution_count": 65,
   "metadata": {},
   "outputs": [],
   "source": [
    "query = \"What is the policy for refunds?\"\n",
    "result = bot.chat(query)"
   ]
  },
  {
   "cell_type": "code",
   "execution_count": 66,
   "metadata": {},
   "outputs": [
    {
     "data": {
      "text/plain": [
       "{'query': 'What is the policy for refunds?',\n",
       " 'response': 'Based on the provided context, the policy for refunds is as follows:\\n\\n1. The Bureau Expo 2020 Dubai will prepare a refund claim and request the Authority to refund the amount if the claim is correct.\\n\\n2. The Authority and Bureau Expo 2020 Dubai must agree on the procedural, evidential, and verification requirements that need to be met by the Office of the Official Participant or any other Person to be eligible for the refund claim.\\n\\n3. A Certificate on Entitlement will be prepared by the Authority.\\n\\nThese requirements outline the process for issuing refunds, which involves agreement between the Bureau Expo 2020 Dubai and the Authority, as well as the completion of specific requirements and the issuance of a Certificate on Entitlement.',\n",
       " 'reference': [{'content': 'prepared by the Authority.  Where the refund claim is correct, the Bureau Expo \\n2020 Dubai makes a request to the Authority to refund the amount. \\n \\nArticle 4 – Requirements for Refund \\nThe Authority and Bureau Expo 2020 Dubai shall agree on procedural, evidential, \\nand verification requirements which need to be met by the Office of the Official \\nParticipant or any other Person to be eligible to the refund claim. \\n \\nArticle 5 – Certificate on Entitlement',\n",
       "   'metadata': {'page': 3,\n",
       "    'page_label': '4',\n",
       "    'source': 'data/processed\\\\279926_cabinet_decision_1_2020__refund_of_vat_paid_on_goods_and_services_connected_with_expo_2020.pdf'}},\n",
       "  {'content': 'prepared by the Authority.  Where the refund claim is correct, the Bureau Expo \\n2020 Dubai makes a request to the Authority to refund the amount. \\n \\nArticle 4 – Requirements for Refund \\nThe Authority and Bureau Expo 2020 Dubai shall agree on procedural, evidential, \\nand verification requirements which need to be met by the Office of the Official \\nParticipant or any other Person to be eligible to the refund claim. \\n \\nArticle 5 – Certificate on Entitlement',\n",
       "   'metadata': {'page': 3,\n",
       "    'page_label': '4',\n",
       "    'source': 'data/processed\\\\279926_cabinet_decision_1_2020__refund_of_vat_paid_on_goods_and_services_connected_with_expo_2020.pdf'}},\n",
       "  {'content': 'prepared by the Authority.  Where the refund claim is correct, the Bureau Expo \\n2020 Dubai makes a request to the Authority to refund the amount. \\n \\nArticle 4 – Requirements for Refund \\nThe Authority and Bureau Expo 2020 Dubai shall agree on procedural, evidential, \\nand verification requirements which need to be met by the Office of the Official \\nParticipant or any other Person to be eligible to the refund claim. \\n \\nArticle 5 – Certificate on Entitlement',\n",
       "   'metadata': {'page': 3,\n",
       "    'page_label': '4',\n",
       "    'source': 'data/processed\\\\279926_cabinet_decision_1_2020__refund_of_vat_paid_on_goods_and_services_connected_with_expo_2020.pdf'}}]}"
      ]
     },
     "execution_count": 66,
     "metadata": {},
     "output_type": "execute_result"
    }
   ],
   "source": [
    "result"
   ]
  },
  {
   "cell_type": "code",
   "execution_count": 67,
   "metadata": {},
   "outputs": [
    {
     "data": {
      "text/plain": [
       "[('What is the policy for refunds?',\n",
       "  'Based on the provided context, the policy for refunds is as follows:\\n\\n1. The Bureau Expo 2020 Dubai will prepare a refund claim and request the Authority to refund the amount if the claim is correct.\\n\\n2. The Authority and Bureau Expo 2020 Dubai must agree on the procedural, evidential, and verification requirements that need to be met by the Office of the Official Participant or any other Person to be eligible for the refund claim.\\n\\n3. A Certificate on Entitlement will be prepared by the Authority.\\n\\nThese requirements outline the process for issuing refunds, which involves agreement between the Bureau Expo 2020 Dubai and the Authority, as well as the completion of specific requirements and the issuance of a Certificate on Entitlement.')]"
      ]
     },
     "execution_count": 67,
     "metadata": {},
     "output_type": "execute_result"
    }
   ],
   "source": [
    "bot.get_history()"
   ]
  },
  {
   "cell_type": "code",
   "execution_count": 68,
   "metadata": {},
   "outputs": [],
   "source": [
    "result2 = bot.chat(\"What is mentioned related to power of authority?\")"
   ]
  },
  {
   "cell_type": "code",
   "execution_count": 69,
   "metadata": {},
   "outputs": [
    {
     "data": {
      "text/plain": [
       "{'query': 'What is mentioned related to power of authority?',\n",
       " 'response': 'Based on the provided context, the following is mentioned related to the power of the authority:\\n\\n1. The Authority has the power to refund the amount if the claim is correct, as per Article 1 of Cabinet Decision No. 1 of 2020.\\n\\n2. The Authority and Bureau Expo 2020 Dubai must agree on the procedural, evidential, and verification requirements that need to be met by the Office of the Official Participant or any other Person to be eligible for the refund claim. This indicates that the Authority has the power to set conditions for refund eligibility.\\n\\n3. The Authority is responsible for preparing a Certificate on Entitlement, which suggests that the Authority has the power to issue certificates that may be required for refund claims.',\n",
       " 'reference': [{'content': '2 Cabinet Decision No. 1 of 2020 - Issue Date: 2 January 2020 – Unofficial translation \\n \\n \\nArticle 1 - Definitions \\nIn the application of the provisions of this Decision, the following words and \\nexpressions shall have the meanings assigned against each, unless the context \\nrequires otherwise: \\nState United Arab Emirates. \\nAuthority Federal Tax Authority. \\nMinister Minister of Finance. \\nTax Value Added Tax. \\nPerson A natural or legal person.',\n",
       "   'metadata': {'page': 1,\n",
       "    'page_label': '2',\n",
       "    'source': 'data/processed\\\\279926_cabinet_decision_1_2020__refund_of_vat_paid_on_goods_and_services_connected_with_expo_2020.pdf'}},\n",
       "  {'content': '2 Cabinet Decision No. 1 of 2020 - Issue Date: 2 January 2020 – Unofficial translation \\n \\n \\nArticle 1 - Definitions \\nIn the application of the provisions of this Decision, the following words and \\nexpressions shall have the meanings assigned against each, unless the context \\nrequires otherwise: \\nState United Arab Emirates. \\nAuthority Federal Tax Authority. \\nMinister Minister of Finance. \\nTax Value Added Tax. \\nPerson A natural or legal person.',\n",
       "   'metadata': {'page': 1,\n",
       "    'page_label': '2',\n",
       "    'source': 'data/processed\\\\279926_cabinet_decision_1_2020__refund_of_vat_paid_on_goods_and_services_connected_with_expo_2020.pdf'}},\n",
       "  {'content': '2 Cabinet Decision No. 1 of 2020 - Issue Date: 2 January 2020 – Unofficial translation \\n \\n \\nArticle 1 - Definitions \\nIn the application of the provisions of this Decision, the following words and \\nexpressions shall have the meanings assigned against each, unless the context \\nrequires otherwise: \\nState United Arab Emirates. \\nAuthority Federal Tax Authority. \\nMinister Minister of Finance. \\nTax Value Added Tax. \\nPerson A natural or legal person.',\n",
       "   'metadata': {'page': 1,\n",
       "    'page_label': '2',\n",
       "    'source': 'data/processed\\\\279926_cabinet_decision_1_2020__refund_of_vat_paid_on_goods_and_services_connected_with_expo_2020.pdf'}}]}"
      ]
     },
     "execution_count": 69,
     "metadata": {},
     "output_type": "execute_result"
    }
   ],
   "source": [
    "result2"
   ]
  },
  {
   "cell_type": "code",
   "execution_count": 70,
   "metadata": {},
   "outputs": [
    {
     "data": {
      "text/plain": [
       "[('What is mentioned related to power of authority?',\n",
       "  'Based on the provided context, the following is mentioned related to the power of the authority:\\n\\n1. The Authority has the power to refund the amount if the claim is correct, as per Article 1 of Cabinet Decision No. 1 of 2020.\\n\\n2. The Authority and Bureau Expo 2020 Dubai must agree on the procedural, evidential, and verification requirements that need to be met by the Office of the Official Participant or any other Person to be eligible for the refund claim. This indicates that the Authority has the power to set conditions for refund eligibility.\\n\\n3. The Authority is responsible for preparing a Certificate on Entitlement, which suggests that the Authority has the power to issue certificates that may be required for refund claims.'),\n",
       " ('What is the policy for refunds?',\n",
       "  'Based on the provided context, the policy for refunds is as follows:\\n\\n1. The Bureau Expo 2020 Dubai will prepare a refund claim and request the Authority to refund the amount if the claim is correct.\\n\\n2. The Authority and Bureau Expo 2020 Dubai must agree on the procedural, evidential, and verification requirements that need to be met by the Office of the Official Participant or any other Person to be eligible for the refund claim.\\n\\n3. A Certificate on Entitlement will be prepared by the Authority.\\n\\nThese requirements outline the process for issuing refunds, which involves agreement between the Bureau Expo 2020 Dubai and the Authority, as well as the completion of specific requirements and the issuance of a Certificate on Entitlement.')]"
      ]
     },
     "execution_count": 70,
     "metadata": {},
     "output_type": "execute_result"
    }
   ],
   "source": [
    "bot.get_history()"
   ]
  },
  {
   "cell_type": "code",
   "execution_count": 71,
   "metadata": {},
   "outputs": [
    {
     "data": {
      "text/plain": [
       "['76d7de9d-6a2e-469e-bae4-852651cc13f0',\n",
       " '60a905fd-d19c-4bde-b31b-1a2cb93c078f',\n",
       " '0bcc2d36-b510-4863-b1f5-e59ec5631910',\n",
       " 'cd176620-8ef5-4741-a2da-aaa1d1b2f57c',\n",
       " 'f02f9ae4-90f8-4e5e-9204-2d11a8b62e03',\n",
       " 'b28eb6ed-fa2a-4e68-8bf2-471760fea780',\n",
       " '95160a07-fc11-4c97-9115-a968d65b010b']"
      ]
     },
     "execution_count": 71,
     "metadata": {},
     "output_type": "execute_result"
    }
   ],
   "source": [
    "bot.get_all_sessions()"
   ]
  },
  {
   "cell_type": "code",
   "execution_count": 72,
   "metadata": {},
   "outputs": [],
   "source": [
    "result3 = bot.chat(\"what was the last question?\")"
   ]
  },
  {
   "cell_type": "code",
   "execution_count": 73,
   "metadata": {},
   "outputs": [
    {
     "data": {
      "text/plain": [
       "{'query': 'what was the last question?',\n",
       " 'response': 'The last question was: What was the last question?',\n",
       " 'reference': [{'content': '4 Cabinet Decision No. 1 of 2020 - Issue Date: 2 January 2020 – Unofficial translation \\n \\n \\n \\nArticle 3 – Application for Refund \\n1. An application to refund the Tax stipulated in Clauses 1 and 2 of Article 2 is \\nsubmitted to the Bureau Expo 2020 Dubai. \\n2. The Bureau Expo 2020 Dubai performs the initial check on the refund claims \\nreceived from the Office of the Official Participants in accordance with the forms',\n",
       "   'metadata': {'page': 3,\n",
       "    'page_label': '4',\n",
       "    'source': 'data/processed\\\\279926_cabinet_decision_1_2020__refund_of_vat_paid_on_goods_and_services_connected_with_expo_2020.pdf'}},\n",
       "  {'content': '4 Cabinet Decision No. 1 of 2020 - Issue Date: 2 January 2020 – Unofficial translation \\n \\n \\n \\nArticle 3 – Application for Refund \\n1. An application to refund the Tax stipulated in Clauses 1 and 2 of Article 2 is \\nsubmitted to the Bureau Expo 2020 Dubai. \\n2. The Bureau Expo 2020 Dubai performs the initial check on the refund claims \\nreceived from the Office of the Official Participants in accordance with the forms',\n",
       "   'metadata': {'page': 3,\n",
       "    'page_label': '4',\n",
       "    'source': 'data/processed\\\\279926_cabinet_decision_1_2020__refund_of_vat_paid_on_goods_and_services_connected_with_expo_2020.pdf'}},\n",
       "  {'content': '4 Cabinet Decision No. 1 of 2020 - Issue Date: 2 January 2020 – Unofficial translation \\n \\n \\n \\nArticle 3 – Application for Refund \\n1. An application to refund the Tax stipulated in Clauses 1 and 2 of Article 2 is \\nsubmitted to the Bureau Expo 2020 Dubai. \\n2. The Bureau Expo 2020 Dubai performs the initial check on the refund claims \\nreceived from the Office of the Official Participants in accordance with the forms',\n",
       "   'metadata': {'page': 3,\n",
       "    'page_label': '4',\n",
       "    'source': 'data/processed\\\\279926_cabinet_decision_1_2020__refund_of_vat_paid_on_goods_and_services_connected_with_expo_2020.pdf'}}]}"
      ]
     },
     "execution_count": 73,
     "metadata": {},
     "output_type": "execute_result"
    }
   ],
   "source": [
    "result3"
   ]
  },
  {
   "cell_type": "code",
   "execution_count": 74,
   "metadata": {},
   "outputs": [
    {
     "data": {
      "text/plain": [
       "ConversationBufferWindowMemory(chat_memory=InMemoryChatMessageHistory(messages=[HumanMessage(content='What is the policy for refunds?', additional_kwargs={}, response_metadata={}), AIMessage(content='Based on the provided context, the policy for refunds is as follows:\\n\\n1. The Bureau Expo 2020 Dubai will prepare a refund claim and request the Authority to refund the amount if the claim is correct.\\n\\n2. The Authority and Bureau Expo 2020 Dubai must agree on the procedural, evidential, and verification requirements that need to be met by the Office of the Official Participant or any other Person to be eligible for the refund claim.\\n\\n3. A Certificate on Entitlement will be prepared by the Authority.\\n\\nThese requirements outline the process for issuing refunds, which involves agreement between the Bureau Expo 2020 Dubai and the Authority, as well as the completion of specific requirements and the issuance of a Certificate on Entitlement.', additional_kwargs={}, response_metadata={}), HumanMessage(content='What is mentioned related to power of authority?', additional_kwargs={}, response_metadata={}), AIMessage(content='Based on the provided context, the following is mentioned related to the power of the authority:\\n\\n1. The Authority has the power to refund the amount if the claim is correct, as per Article 1 of Cabinet Decision No. 1 of 2020.\\n\\n2. The Authority and Bureau Expo 2020 Dubai must agree on the procedural, evidential, and verification requirements that need to be met by the Office of the Official Participant or any other Person to be eligible for the refund claim. This indicates that the Authority has the power to set conditions for refund eligibility.\\n\\n3. The Authority is responsible for preparing a Certificate on Entitlement, which suggests that the Authority has the power to issue certificates that may be required for refund claims.', additional_kwargs={}, response_metadata={}), HumanMessage(content='what was the last question?', additional_kwargs={}, response_metadata={}), AIMessage(content='The last question was: What was the last question?', additional_kwargs={}, response_metadata={})]), return_messages=True, memory_key='chat_history')"
      ]
     },
     "execution_count": 74,
     "metadata": {},
     "output_type": "execute_result"
    }
   ],
   "source": [
    "bot.memory"
   ]
  },
  {
   "cell_type": "code",
   "execution_count": null,
   "metadata": {},
   "outputs": [],
   "source": []
  }
 ],
 "metadata": {
  "kernelspec": {
   "display_name": "ml_env",
   "language": "python",
   "name": "python3"
  },
  "language_info": {
   "codemirror_mode": {
    "name": "ipython",
    "version": 3
   },
   "file_extension": ".py",
   "mimetype": "text/x-python",
   "name": "python",
   "nbconvert_exporter": "python",
   "pygments_lexer": "ipython3",
   "version": "3.12.5"
  }
 },
 "nbformat": 4,
 "nbformat_minor": 2
}
